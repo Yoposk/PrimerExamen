{
 "cells": [
  {
   "cell_type": "markdown",
   "metadata": {},
   "source": [
    "# Examen 1"
   ]
  },
  {
   "cell_type": "markdown",
   "metadata": {},
   "source": [
    "## Importaciones necesarias"
   ]
  },
  {
   "cell_type": "code",
   "execution_count": null,
   "metadata": {},
   "outputs": [],
   "source": [
    "import pandas as pd\n",
    "import matplotlib.pyplot as plt\n",
    "import scipy as sp\n",
    "import numpy as np\n",
    "import random\n",
    "from scipy import optimize as opt"
   ]
  },
  {
   "cell_type": "markdown",
   "metadata": {},
   "source": [
    "## Punto 1"
   ]
  },
  {
   "cell_type": "markdown",
   "metadata": {},
   "source": [
    "JSON de nombre \"countries.json\" descargado del siguiente link:\n",
    "https://gist.githubusercontent.com/keeguon/2310008/raw/bdc2ce1c1e3f28f9cab5b4393c7549f38361be4e/countries."
   ]
  },
  {
   "cell_type": "code",
   "execution_count": null,
   "metadata": {},
   "outputs": [],
   "source": [
    "CountriesAPI = \"https://inspirehep.net/api/institutions?q=chile\"\n",
    "DatosPais = pd.read_json(CountriesAPI)"
   ]
  },
  {
   "cell_type": "markdown",
   "metadata": {},
   "source": [
    "Paso por toda la informacion optenida para poder saber cuales tienen paper mayores a 0"
   ]
  },
  {
   "cell_type": "code",
   "execution_count": null,
   "metadata": {},
   "outputs": [],
   "source": [
    "opciones = []\n",
    "for i in range(0, len(DatosPais[\"hits\"][\"hits\"])):\n",
    "    validador = DatosPais[\"hits\"][\"hits\"][i][\"metadata\"][\"number_of_papers\"]\n",
    "    if validador > 0:\n",
    "        opciones.append(i)"
   ]
  },
  {
   "cell_type": "markdown",
   "metadata": {},
   "source": [
    "La primera opcion contiene los papers, por ende cumple con las condiciones para buscarle el \"legacy_ICN\""
   ]
  },
  {
   "cell_type": "code",
   "execution_count": null,
   "metadata": {},
   "outputs": [],
   "source": [
    "DatosPais[\"hits\"][\"hits\"][opciones[5]][\"metadata\"][\"number_of_papers\"]"
   ]
  },
  {
   "cell_type": "markdown",
   "metadata": {},
   "source": [
    "Obteniendo la informacion de \"legacy_ICN\""
   ]
  },
  {
   "cell_type": "code",
   "execution_count": null,
   "metadata": {},
   "outputs": [],
   "source": [
    "legacy_ICN = DatosPais[\"hits\"][\"hits\"][opciones[0]][\"metadata\"][\"legacy_ICN\"]\n",
    "legacy_ICN"
   ]
  },
  {
   "cell_type": "code",
   "execution_count": null,
   "metadata": {},
   "outputs": [],
   "source": [
    "ajuste_legacy_ICN = legacy_ICN[0:21].replace(\" \",\"+\")\n",
    "ajuste_legacy_ICN"
   ]
  },
  {
   "cell_type": "markdown",
   "metadata": {},
   "source": [
    "Descargando el siguiente archivo JSON, con los artículos de menos de 10 autores usando el \"legacy_ICN\""
   ]
  },
  {
   "cell_type": "code",
   "execution_count": null,
   "metadata": {},
   "outputs": [],
   "source": [
    "AuthorsAPI = \"https://inspirehep.net/api/literature?page=1&q=aff+U.+Chile,+Santiago+and+ac+1-%3E+10\"\n",
    "DatosAuthor = pd.read_json(AuthorsAPI)"
   ]
  },
  {
   "cell_type": "code",
   "execution_count": null,
   "metadata": {},
   "outputs": [],
   "source": [
    "DatosAuthor[\"hits\"][\"hits\"][2][\"metadata\"][\"authors\"][0][\"record\"][\"$ref\"]"
   ]
  },
  {
   "cell_type": "markdown",
   "metadata": {},
   "source": [
    "Busqueda y creación del dataframe"
   ]
  },
  {
   "cell_type": "code",
   "execution_count": 32,
   "metadata": {},
   "outputs": [],
   "source": [
    "NombreAuthor = []\n",
    "CorreoAuthor = []\n",
    "# No entendi este asi que no sé que buscar exactamente\n",
    "Position = []\n",
    "# --------------\n",
    "Rango = []\n",
    "Institution = []\n",
    "FechaInicio = []\n",
    "FechaFinalizacion = []"
   ]
  },
  {
   "cell_type": "code",
   "execution_count": 33,
   "metadata": {},
   "outputs": [],
   "source": [
    "for i in range(0,len(DatosAuthor[\"hits\"][\"hits\"])):\n",
    "    for j in range(0,len(DatosAuthor[\"hits\"][\"hits\"][i][\"metadata\"][\"authors\"])):\n",
    "        NombreAuthor.append(DatosAuthor[\"hits\"][\"hits\"][i][\"metadata\"][\"authors\"][j][\"full_name\"])\n",
    "        try:\n",
    "            LinkAuthor = DatosAuthor[\"hits\"][\"hits\"][i][\"metadata\"][\"authors\"][j][\"record\"][\"$ref\"]\n",
    "            try:\n",
    "                CorreoAuthor.append(pd.read_json(LinkAuthor)[\"metadata\"][\"email_addresses\"][0][\"value\"])\n",
    "            except KeyError:\n",
    "                CorreoAuthor.append(' - ')\n",
    "            try:\n",
    "                Rango.append(pd.read_json(LinkAuthor)[\"metadata\"][\"positions\"][0][\"rank\"])\n",
    "            except KeyError:\n",
    "                Rango.append(' - ')\n",
    "            try:\n",
    "                Institution.append(pd.read_json(LinkAuthor)[\"metadata\"][\"positions\"][0][\"institution\"])\n",
    "            except KeyError:\n",
    "                Institution.append(' - ') \n",
    "            try:\n",
    "                FechaInicio.append(pd.read_json(LinkAuthor)[\"metadata\"][\"positions\"][0][\"start_date\"])\n",
    "            except KeyError:\n",
    "                FechaInicio.append(' - ')\n",
    "            try:\n",
    "                FechaFinalizacion.append(pd.read_json(LinkAuthor)[\"metadata\"][\"positions\"][0][\"end_date\"])\n",
    "            except KeyError:\n",
    "                FechaFinalizacion.append(' - ') \n",
    "        except KeyError:\n",
    "            CorreoAuthor.append('Sin acceso a $ref')\n",
    "            Rango.append('Sin acceso a $ref')\n",
    "            Institution.append(\"Sin acceso a $ref\")\n",
    "            FechaInicio.append('Sin acceso a $ref')\n",
    "            FechaFinalizacion.append('Sin acceso a $ref')"
   ]
  },
  {
   "cell_type": "code",
   "execution_count": 34,
   "metadata": {},
   "outputs": [
    {
     "name": "stdout",
     "output_type": "stream",
     "text": [
      "Correo:  26\n",
      "Nombre:  26\n",
      "Rango:  26\n",
      "Insti:  26\n",
      "Inicio:  26\n",
      "Final:  26\n"
     ]
    }
   ],
   "source": [
    "print(\"Correo: \",len(CorreoAuthor))\n",
    "print(\"Nombre: \",len(NombreAuthor))\n",
    "print(\"Rango: \",len(Rango))\n",
    "print(\"Insti: \",len(Institution))\n",
    "print(\"Inicio: \",len(FechaInicio))\n",
    "print(\"Final: \",len(FechaFinalizacion))"
   ]
  },
  {
   "cell_type": "code",
   "execution_count": 35,
   "metadata": {},
   "outputs": [],
   "source": [
    "ResumenDeLosDatos = {\"Nombre\":NombreAuthor,\"Correo\":CorreoAuthor,\"Rango\":Rango,\"Institución\":Institution,\"Fecha de inicio\":FechaInicio,\"Fecha de finalizacion\":FechaFinalizacion}"
   ]
  },
  {
   "cell_type": "code",
   "execution_count": 43,
   "metadata": {},
   "outputs": [
    {
     "data": {
      "text/html": [
       "<div>\n",
       "<style scoped>\n",
       "    .dataframe tbody tr th:only-of-type {\n",
       "        vertical-align: middle;\n",
       "    }\n",
       "\n",
       "    .dataframe tbody tr th {\n",
       "        vertical-align: top;\n",
       "    }\n",
       "\n",
       "    .dataframe thead th {\n",
       "        text-align: right;\n",
       "    }\n",
       "</style>\n",
       "<table border=\"1\" class=\"dataframe\">\n",
       "  <thead>\n",
       "    <tr style=\"text-align: right;\">\n",
       "      <th></th>\n",
       "      <th>Nombre</th>\n",
       "      <th>Correo</th>\n",
       "      <th>Rango</th>\n",
       "      <th>Institución</th>\n",
       "      <th>Fecha de inicio</th>\n",
       "      <th>Fecha de finalizacion</th>\n",
       "    </tr>\n",
       "  </thead>\n",
       "  <tbody>\n",
       "    <tr>\n",
       "      <th>0</th>\n",
       "      <td>Khadka, Narayan</td>\n",
       "      <td>nkhadka@phys.ksu.edu</td>\n",
       "      <td>PHD</td>\n",
       "      <td>Kansas State U., Manhattan</td>\n",
       "      <td>-</td>\n",
       "      <td>-</td>\n",
       "    </tr>\n",
       "    <tr>\n",
       "      <th>1</th>\n",
       "      <td>Martínez-Aldama, Mary Loli</td>\n",
       "      <td>-</td>\n",
       "      <td>-</td>\n",
       "      <td>-</td>\n",
       "      <td>-</td>\n",
       "      <td>-</td>\n",
       "    </tr>\n",
       "    <tr>\n",
       "      <th>2</th>\n",
       "      <td>Zajaček, Michal</td>\n",
       "      <td>-</td>\n",
       "      <td>-</td>\n",
       "      <td>Masaryk U., Brno</td>\n",
       "      <td>-</td>\n",
       "      <td>-</td>\n",
       "    </tr>\n",
       "    <tr>\n",
       "      <th>3</th>\n",
       "      <td>Czerny, Bożena</td>\n",
       "      <td>bcz@cft.edu.pl</td>\n",
       "      <td>SENIOR</td>\n",
       "      <td>Warsaw, CFT</td>\n",
       "      <td>2015</td>\n",
       "      <td>-</td>\n",
       "    </tr>\n",
       "    <tr>\n",
       "      <th>4</th>\n",
       "      <td>Ratra, Bharat</td>\n",
       "      <td>ratra@phys.ksu.edu</td>\n",
       "      <td>SENIOR</td>\n",
       "      <td>Kansas State U.</td>\n",
       "      <td>1996</td>\n",
       "      <td>-</td>\n",
       "    </tr>\n",
       "    <tr>\n",
       "      <th>5</th>\n",
       "      <td>Garban, Christophe</td>\n",
       "      <td>-</td>\n",
       "      <td>-</td>\n",
       "      <td>-</td>\n",
       "      <td>-</td>\n",
       "      <td>-</td>\n",
       "    </tr>\n",
       "    <tr>\n",
       "      <th>6</th>\n",
       "      <td>Sepúlveda, Avelio</td>\n",
       "      <td>-</td>\n",
       "      <td>-</td>\n",
       "      <td>-</td>\n",
       "      <td>-</td>\n",
       "      <td>-</td>\n",
       "    </tr>\n",
       "    <tr>\n",
       "      <th>7</th>\n",
       "      <td>Ávila, Ivania M.</td>\n",
       "      <td>ivania.maturana@edu.uai.cl</td>\n",
       "      <td>POSTDOC</td>\n",
       "      <td>Adolfo Ibanez U.</td>\n",
       "      <td>2021</td>\n",
       "      <td>-</td>\n",
       "    </tr>\n",
       "    <tr>\n",
       "      <th>8</th>\n",
       "      <td>Cottin, Giovanna</td>\n",
       "      <td>giovanna.cottin@uai.cl</td>\n",
       "      <td>JUNIOR</td>\n",
       "      <td>Adolfo Ibanez U.</td>\n",
       "      <td>2020</td>\n",
       "      <td>-</td>\n",
       "    </tr>\n",
       "    <tr>\n",
       "      <th>9</th>\n",
       "      <td>Díaz, Marco A.</td>\n",
       "      <td>mad@susy.fis.puc.cl</td>\n",
       "      <td>SENIOR</td>\n",
       "      <td>Chile U., Catolica</td>\n",
       "      <td>1999</td>\n",
       "      <td>-</td>\n",
       "    </tr>\n",
       "    <tr>\n",
       "      <th>10</th>\n",
       "      <td>Asenjo, Felipe A.</td>\n",
       "      <td>-</td>\n",
       "      <td>-</td>\n",
       "      <td>Adolfo Ibanez U.</td>\n",
       "      <td>-</td>\n",
       "      <td>-</td>\n",
       "    </tr>\n",
       "    <tr>\n",
       "      <th>11</th>\n",
       "      <td>Hojman, Sergio A.</td>\n",
       "      <td>sergio.hojman@uai.cl</td>\n",
       "      <td>SENIOR</td>\n",
       "      <td>Adolfo Ibanez U.</td>\n",
       "      <td>2009</td>\n",
       "      <td>-</td>\n",
       "    </tr>\n",
       "    <tr>\n",
       "      <th>12</th>\n",
       "      <td>Barron, Katrina</td>\n",
       "      <td>kbarron@nd.edu</td>\n",
       "      <td>JUNIOR</td>\n",
       "      <td>Notre Dame U.</td>\n",
       "      <td>2001</td>\n",
       "      <td>-</td>\n",
       "    </tr>\n",
       "    <tr>\n",
       "      <th>13</th>\n",
       "      <td>Batistelli, Karina</td>\n",
       "      <td>-</td>\n",
       "      <td>-</td>\n",
       "      <td>-</td>\n",
       "      <td>-</td>\n",
       "      <td>-</td>\n",
       "    </tr>\n",
       "    <tr>\n",
       "      <th>14</th>\n",
       "      <td>Hunziker, Florencia Orosz</td>\n",
       "      <td>-</td>\n",
       "      <td>-</td>\n",
       "      <td>-</td>\n",
       "      <td>-</td>\n",
       "      <td>-</td>\n",
       "    </tr>\n",
       "    <tr>\n",
       "      <th>15</th>\n",
       "      <td>Tomic, Veronika Pedic</td>\n",
       "      <td>-</td>\n",
       "      <td>-</td>\n",
       "      <td>-</td>\n",
       "      <td>-</td>\n",
       "      <td>-</td>\n",
       "    </tr>\n",
       "    <tr>\n",
       "      <th>16</th>\n",
       "      <td>Yamskulna, Gaywalee</td>\n",
       "      <td>-</td>\n",
       "      <td>-</td>\n",
       "      <td>-</td>\n",
       "      <td>-</td>\n",
       "      <td>-</td>\n",
       "    </tr>\n",
       "    <tr>\n",
       "      <th>17</th>\n",
       "      <td>Dessart, Luc</td>\n",
       "      <td>Sin acceso a $ref</td>\n",
       "      <td>Sin acceso a $ref</td>\n",
       "      <td>Sin acceso a $ref</td>\n",
       "      <td>Sin acceso a $ref</td>\n",
       "      <td>Sin acceso a $ref</td>\n",
       "    </tr>\n",
       "    <tr>\n",
       "      <th>18</th>\n",
       "      <td>Audit, Edouard</td>\n",
       "      <td>-</td>\n",
       "      <td>-</td>\n",
       "      <td>DARC, Meudon</td>\n",
       "      <td>-</td>\n",
       "      <td>-</td>\n",
       "    </tr>\n",
       "    <tr>\n",
       "      <th>19</th>\n",
       "      <td>Zanelli, Jorge</td>\n",
       "      <td>z@cecs.cl</td>\n",
       "      <td>-</td>\n",
       "      <td>CECS, Valdivia</td>\n",
       "      <td>-</td>\n",
       "      <td>-</td>\n",
       "    </tr>\n",
       "    <tr>\n",
       "      <th>20</th>\n",
       "      <td>Alfaro, Jorge</td>\n",
       "      <td>jalfaro@uc.cl</td>\n",
       "      <td>SENIOR</td>\n",
       "      <td>Chile U., Santiago</td>\n",
       "      <td>-</td>\n",
       "      <td>-</td>\n",
       "    </tr>\n",
       "    <tr>\n",
       "      <th>21</th>\n",
       "      <td>Arellano, H.F.</td>\n",
       "      <td>Sin acceso a $ref</td>\n",
       "      <td>Sin acceso a $ref</td>\n",
       "      <td>Sin acceso a $ref</td>\n",
       "      <td>Sin acceso a $ref</td>\n",
       "      <td>Sin acceso a $ref</td>\n",
       "    </tr>\n",
       "    <tr>\n",
       "      <th>22</th>\n",
       "      <td>Blanchon, G.</td>\n",
       "      <td>-</td>\n",
       "      <td>-</td>\n",
       "      <td>-</td>\n",
       "      <td>-</td>\n",
       "      <td>-</td>\n",
       "    </tr>\n",
       "    <tr>\n",
       "      <th>23</th>\n",
       "      <td>Nesseris, Savvas</td>\n",
       "      <td>savvas.nesseris@csic.es</td>\n",
       "      <td>SENIOR</td>\n",
       "      <td>Madrid, IFT</td>\n",
       "      <td>2022</td>\n",
       "      <td>-</td>\n",
       "    </tr>\n",
       "    <tr>\n",
       "      <th>24</th>\n",
       "      <td>Sapone, Domenico</td>\n",
       "      <td>domenico.sapone@uchile.cl</td>\n",
       "      <td>SENIOR</td>\n",
       "      <td>Chile U., Beauchef</td>\n",
       "      <td>2014</td>\n",
       "      <td>-</td>\n",
       "    </tr>\n",
       "    <tr>\n",
       "      <th>25</th>\n",
       "      <td>Sypsas, Spyros</td>\n",
       "      <td>s.sypsas@gmail.com</td>\n",
       "      <td>POSTDOC</td>\n",
       "      <td>Chile U., Beauchef</td>\n",
       "      <td>2015</td>\n",
       "      <td>-</td>\n",
       "    </tr>\n",
       "  </tbody>\n",
       "</table>\n",
       "</div>"
      ],
      "text/plain": [
       "                        Nombre                      Correo              Rango  \\\n",
       "0              Khadka, Narayan        nkhadka@phys.ksu.edu                PHD   \n",
       "1   Martínez-Aldama, Mary Loli                          -                  -    \n",
       "2              Zajaček, Michal                          -                  -    \n",
       "3               Czerny, Bożena              bcz@cft.edu.pl             SENIOR   \n",
       "4                Ratra, Bharat          ratra@phys.ksu.edu             SENIOR   \n",
       "5           Garban, Christophe                          -                  -    \n",
       "6            Sepúlveda, Avelio                          -                  -    \n",
       "7             Ávila, Ivania M.  ivania.maturana@edu.uai.cl            POSTDOC   \n",
       "8             Cottin, Giovanna      giovanna.cottin@uai.cl             JUNIOR   \n",
       "9               Díaz, Marco A.         mad@susy.fis.puc.cl             SENIOR   \n",
       "10           Asenjo, Felipe A.                          -                  -    \n",
       "11           Hojman, Sergio A.        sergio.hojman@uai.cl             SENIOR   \n",
       "12             Barron, Katrina              kbarron@nd.edu             JUNIOR   \n",
       "13          Batistelli, Karina                          -                  -    \n",
       "14   Hunziker, Florencia Orosz                          -                  -    \n",
       "15       Tomic, Veronika Pedic                          -                  -    \n",
       "16         Yamskulna, Gaywalee                          -                  -    \n",
       "17                Dessart, Luc           Sin acceso a $ref  Sin acceso a $ref   \n",
       "18              Audit, Edouard                          -                  -    \n",
       "19              Zanelli, Jorge                   z@cecs.cl                 -    \n",
       "20               Alfaro, Jorge               jalfaro@uc.cl             SENIOR   \n",
       "21              Arellano, H.F.           Sin acceso a $ref  Sin acceso a $ref   \n",
       "22                Blanchon, G.                          -                  -    \n",
       "23            Nesseris, Savvas     savvas.nesseris@csic.es             SENIOR   \n",
       "24            Sapone, Domenico   domenico.sapone@uchile.cl             SENIOR   \n",
       "25              Sypsas, Spyros          s.sypsas@gmail.com            POSTDOC   \n",
       "\n",
       "                   Institución    Fecha de inicio Fecha de finalizacion  \n",
       "0   Kansas State U., Manhattan                 -                     -   \n",
       "1                           -                  -                     -   \n",
       "2             Masaryk U., Brno                 -                     -   \n",
       "3                  Warsaw, CFT               2015                    -   \n",
       "4              Kansas State U.               1996                    -   \n",
       "5                           -                  -                     -   \n",
       "6                           -                  -                     -   \n",
       "7             Adolfo Ibanez U.               2021                    -   \n",
       "8             Adolfo Ibanez U.               2020                    -   \n",
       "9           Chile U., Catolica               1999                    -   \n",
       "10            Adolfo Ibanez U.                 -                     -   \n",
       "11            Adolfo Ibanez U.               2009                    -   \n",
       "12               Notre Dame U.               2001                    -   \n",
       "13                          -                  -                     -   \n",
       "14                          -                  -                     -   \n",
       "15                          -                  -                     -   \n",
       "16                          -                  -                     -   \n",
       "17           Sin acceso a $ref  Sin acceso a $ref     Sin acceso a $ref  \n",
       "18                DARC, Meudon                 -                     -   \n",
       "19              CECS, Valdivia                 -                     -   \n",
       "20          Chile U., Santiago                 -                     -   \n",
       "21           Sin acceso a $ref  Sin acceso a $ref     Sin acceso a $ref  \n",
       "22                          -                  -                     -   \n",
       "23                 Madrid, IFT               2022                    -   \n",
       "24          Chile U., Beauchef               2014                    -   \n",
       "25          Chile U., Beauchef               2015                    -   "
      ]
     },
     "execution_count": 43,
     "metadata": {},
     "output_type": "execute_result"
    }
   ],
   "source": [
    "ElDataFrame = pd.DataFrame(ResumenDeLosDatos)\n",
    "ElDataFrame"
   ]
  },
  {
   "cell_type": "markdown",
   "metadata": {},
   "source": [
    "## Punto 2"
   ]
  },
  {
   "cell_type": "markdown",
   "metadata": {},
   "source": [
    "Genere un polinomio de numpy con 3 raices reales aleatorias entre los dos últimos números diferentes de su identificación (Ejemplo: 98554575 → 3 raices reales aleatorias  entre 5 y 7 )"
   ]
  },
  {
   "cell_type": "markdown",
   "metadata": {},
   "source": [
    "Cedula: 1214748203 -> 0 y 3"
   ]
  },
  {
   "cell_type": "code",
   "execution_count": 37,
   "metadata": {},
   "outputs": [
    {
     "name": "stdout",
     "output_type": "stream",
     "text": [
      "Raiz 1:  2.714383218504346\n",
      "Raiz 2:  1.752108030427811\n",
      "Raiz 3:  0.6762882015374648\n"
     ]
    }
   ],
   "source": [
    "coef1 = random.uniform(0,3)\n",
    "coef2 = random.uniform(0,3)\n",
    "coef3 = random.uniform(0,3)\n",
    "\n",
    "print(\"Raiz 1: \",coef1)\n",
    "print(\"Raiz 2: \",coef2)\n",
    "print(\"Raiz 3: \",coef3)"
   ]
  },
  {
   "cell_type": "markdown",
   "metadata": {},
   "source": [
    "Polinomio principal"
   ]
  },
  {
   "cell_type": "code",
   "execution_count": 38,
   "metadata": {},
   "outputs": [],
   "source": [
    "Poli_3raiz = np.poly1d([1, (-1)*(coef1+coef2+coef3), coef1*coef2 + coef1*coef3 + coef2*coef3,(-1)*coef1*coef2*coef3])"
   ]
  },
  {
   "cell_type": "code",
   "execution_count": 39,
   "metadata": {},
   "outputs": [],
   "source": [
    "Valx = np.linspace(0,4,100)"
   ]
  },
  {
   "cell_type": "code",
   "execution_count": 40,
   "metadata": {},
   "outputs": [],
   "source": [
    "Valy = Poli_3raiz(Valx)"
   ]
  },
  {
   "cell_type": "code",
   "execution_count": 41,
   "metadata": {},
   "outputs": [
    {
     "data": {
      "image/png": "[encoded data removed]",
      "text/plain": [
       "<Figure size 1440x864 with 1 Axes>"
      ]
     },
     "metadata": {
      "needs_background": "light"
     },
     "output_type": "display_data"
    }
   ],
   "source": [
    "plt.figure(figsize=(20,12))\n",
    "plt.plot(Valx,Valy)\n",
    "plt.axhline(0,color=\"red\")\n",
    "plt.ylim(-0.04,0.04)\n",
    "plt.xlim(1.5,2.5)\n",
    "plt.show()"
   ]
  },
  {
   "cell_type": "markdown",
   "metadata": {},
   "source": [
    "dada la grafica anterior, podemos decir que tenemos raices entre [1.5,1.6], [2,2.1] y [2.1,2.3]"
   ]
  },
  {
   "cell_type": "code",
   "execution_count": 42,
   "metadata": {},
   "outputs": [
    {
     "ename": "ValueError",
     "evalue": "f(a) and f(b) must have different signs",
     "output_type": "error",
     "traceback": [
      "\u001b[1;31m---------------------------------------------------------------------------\u001b[0m",
      "\u001b[1;31mValueError\u001b[0m                                Traceback (most recent call last)",
      "\u001b[1;32mc:\\Users\\oscar\\OneDrive\\Desktop\\Examen 1\\Examen_1_MC.ipynb Celda 33\u001b[0m in \u001b[0;36m<cell line: 3>\u001b[1;34m()\u001b[0m\n\u001b[0;32m      <a href='vscode-notebook-cell:/c%3A/Users/oscar/OneDrive/Desktop/Examen%201/Examen_1_MC.ipynb#X42sZmlsZQ%3D%3D?line=0'>1</a>\u001b[0m Raiz1_a \u001b[39m=\u001b[39m \u001b[39m1.5\u001b[39m\n\u001b[0;32m      <a href='vscode-notebook-cell:/c%3A/Users/oscar/OneDrive/Desktop/Examen%201/Examen_1_MC.ipynb#X42sZmlsZQ%3D%3D?line=1'>2</a>\u001b[0m Raiz1_b \u001b[39m=\u001b[39m \u001b[39m1.6\u001b[39m\n\u001b[1;32m----> <a href='vscode-notebook-cell:/c%3A/Users/oscar/OneDrive/Desktop/Examen%201/Examen_1_MC.ipynb#X42sZmlsZQ%3D%3D?line=2'>3</a>\u001b[0m Raiz1 \u001b[39m=\u001b[39m opt\u001b[39m.\u001b[39;49mbisect(Poli_3raiz,Raiz1_a,Raiz1_b)\n\u001b[0;32m      <a href='vscode-notebook-cell:/c%3A/Users/oscar/OneDrive/Desktop/Examen%201/Examen_1_MC.ipynb#X42sZmlsZQ%3D%3D?line=4'>5</a>\u001b[0m Raiz2_a \u001b[39m=\u001b[39m \u001b[39m2\u001b[39m\n\u001b[0;32m      <a href='vscode-notebook-cell:/c%3A/Users/oscar/OneDrive/Desktop/Examen%201/Examen_1_MC.ipynb#X42sZmlsZQ%3D%3D?line=5'>6</a>\u001b[0m Raiz2_b \u001b[39m=\u001b[39m \u001b[39m2.1\u001b[39m\n",
      "File \u001b[1;32m~\\AppData\\Roaming\\Python\\Python310\\site-packages\\scipy\\optimize\\_zeros_py.py:556\u001b[0m, in \u001b[0;36mbisect\u001b[1;34m(f, a, b, args, xtol, rtol, maxiter, full_output, disp)\u001b[0m\n\u001b[0;32m    554\u001b[0m \u001b[39mif\u001b[39;00m rtol \u001b[39m<\u001b[39m _rtol:\n\u001b[0;32m    555\u001b[0m     \u001b[39mraise\u001b[39;00m \u001b[39mValueError\u001b[39;00m(\u001b[39m\"\u001b[39m\u001b[39mrtol too small (\u001b[39m\u001b[39m%g\u001b[39;00m\u001b[39m < \u001b[39m\u001b[39m%g\u001b[39;00m\u001b[39m)\u001b[39m\u001b[39m\"\u001b[39m \u001b[39m%\u001b[39m (rtol, _rtol))\n\u001b[1;32m--> 556\u001b[0m r \u001b[39m=\u001b[39m _zeros\u001b[39m.\u001b[39;49m_bisect(f, a, b, xtol, rtol, maxiter, args, full_output, disp)\n\u001b[0;32m    557\u001b[0m \u001b[39mreturn\u001b[39;00m results_c(full_output, r)\n",
      "\u001b[1;31mValueError\u001b[0m: f(a) and f(b) must have different signs"
     ]
    }
   ],
   "source": [
    "Raiz1_a = 1.5\n",
    "Raiz1_b = 1.6\n",
    "Raiz1 = opt.bisect(Poli_3raiz,Raiz1_a,Raiz1_b)\n",
    "\n",
    "Raiz2_a = 2\n",
    "Raiz2_b = 2.1\n",
    "Raiz2 = opt.bisect(Poli_3raiz,Raiz2_a,Raiz2_b)\n",
    "\n",
    "Raiz3_a = 2.1\n",
    "Raiz3_b = 2.3\n",
    "Raiz3 = opt.bisect(Poli_3raiz,Raiz3_a,Raiz3_b)"
   ]
  },
  {
   "cell_type": "markdown",
   "metadata": {},
   "source": [
    "derivada del polinomio"
   ]
  },
  {
   "cell_type": "code",
   "execution_count": null,
   "metadata": {},
   "outputs": [],
   "source": [
    "Deri_Poli = Poli_3raiz.deriv()\n",
    "Valy_deri = Deri_Poli(Valx)"
   ]
  },
  {
   "cell_type": "code",
   "execution_count": null,
   "metadata": {},
   "outputs": [],
   "source": [
    "plt.figure(figsize=(20,12))\n",
    "plt.plot(Valx,Valy_deri)\n",
    "plt.axhline(0,color=\"red\")\n",
    "plt.ylim(-1,1)\n",
    "plt.xlim(1.5,2.5)\n",
    "plt.show()"
   ]
  },
  {
   "cell_type": "markdown",
   "metadata": {},
   "source": [
    "dada la grafica anterior, podemos decir que tenemos raices entre [1.6,1.8], [2,2.2]"
   ]
  },
  {
   "cell_type": "code",
   "execution_count": null,
   "metadata": {},
   "outputs": [],
   "source": [
    "RaizDeri1_a = 1.6\n",
    "RaizDeri1_b = 1.8\n",
    "RaizDeri1 = opt.bisect(Deri_Poli,RaizDeri1_a,RaizDeri1_b)\n",
    "\n",
    "RaizDeri2_a = 2\n",
    "RaizDeri2_b = 2.2\n",
    "RaizDeri2 = opt.bisect(Deri_Poli,RaizDeri2_a,RaizDeri2_b)"
   ]
  },
  {
   "cell_type": "code",
   "execution_count": null,
   "metadata": {},
   "outputs": [],
   "source": [
    "Raices = np.array([Raiz1,Raiz2,Raiz3])\n",
    "ValRaiz = Poli_3raiz(Raices)"
   ]
  },
  {
   "cell_type": "markdown",
   "metadata": {},
   "source": [
    "derivada de la derivada (para verificar si es maximo o minimo)"
   ]
  },
  {
   "cell_type": "code",
   "execution_count": null,
   "metadata": {},
   "outputs": [],
   "source": [
    "Deri_Deri_Poli = Deri_Poli.deriv()"
   ]
  },
  {
   "cell_type": "code",
   "execution_count": null,
   "metadata": {},
   "outputs": [],
   "source": [
    "PuntosCriticos = np.array([RaizDeri1,RaizDeri2])\n",
    "Valy_deri_deri = Deri_Deri_Poli(PuntosCriticos)\n",
    "Valy_deri_deri"
   ]
  },
  {
   "cell_type": "markdown",
   "metadata": {},
   "source": [
    "dado lo anterior, tenemos que el punto de la RaizDeri1 es un maximo y el de RaizDeri2 es un minimo (local si se toma la recta, ya que la función crece y decrece infinitamente en los extremos. De lo contrario globales para intervalos alrededor de las raices)"
   ]
  },
  {
   "cell_type": "markdown",
   "metadata": {},
   "source": [
    "En el intervalo tomado [0,4], los maximos globales son los extremos, pero tomando unicamente los valores dentro de las raices que son las que presentan cambio de concavidad son:"
   ]
  },
  {
   "cell_type": "markdown",
   "metadata": {},
   "source": [
    "graficando todos los resultados"
   ]
  },
  {
   "cell_type": "markdown",
   "metadata": {},
   "source": [
    "Grafica del polinomio y sus dereivadas"
   ]
  },
  {
   "cell_type": "code",
   "execution_count": null,
   "metadata": {},
   "outputs": [],
   "source": [
    "plt.figure(figsize=(20,12))\n",
    "plt.plot(Valx,Valy,\"blue\",label=\"Polinomio\")\n",
    "plt.plot(Valx,Valy_deri,\"green\",label=\"1ra Derivada\")\n",
    "plt.plot(Valx,Deri_Deri_Poli(Valx),\"red\",label=\"2da Derivada\")\n",
    "plt.legend()\n",
    "plt.show()"
   ]
  },
  {
   "cell_type": "markdown",
   "metadata": {},
   "source": [
    "grafica del polinomio y sus raices"
   ]
  },
  {
   "cell_type": "code",
   "execution_count": null,
   "metadata": {},
   "outputs": [],
   "source": [
    "plt.figure(figsize=(20,12))\n",
    "plt.plot(Valx,Valy)\n",
    "plt.plot(Raices,ValRaiz,\"og\")\n",
    "plt.axhline(0,color=\"red\")\n",
    "plt.ylim(-0.04,0.04)\n",
    "plt.xlim(1.5,2.5)\n",
    "plt.show()\n"
   ]
  },
  {
   "cell_type": "markdown",
   "metadata": {},
   "source": [
    "grafica de la derivada y sus raices"
   ]
  },
  {
   "cell_type": "code",
   "execution_count": null,
   "metadata": {},
   "outputs": [],
   "source": [
    "plt.figure(figsize=(20,12))\n",
    "plt.plot(Valx,Valy_deri)\n",
    "plt.plot(PuntosCriticos,Deri_Poli(PuntosCriticos),\"og\")\n",
    "plt.axhline(0,color=\"red\")\n",
    "plt.ylim(-1,1)\n",
    "plt.xlim(1.5,2.5)\n",
    "plt.show()"
   ]
  }
 ],
 "metadata": {
  "kernelspec": {
   "display_name": "Python 3.10.4 64-bit",
   "language": "python",
   "name": "python3"
  },
  "language_info": {
   "codemirror_mode": {
    "name": "ipython",
    "version": 3
   },
   "file_extension": ".py",
   "mimetype": "text/x-python",
   "name": "python",
   "nbconvert_exporter": "python",
   "pygments_lexer": "ipython3",
   "version": "3.10.4"
  },
  "orig_nbformat": 4,
  "vscode": {
   "interpreter": {
    "hash": "26de051ba29f2982a8de78e945f0abaf191376122a1563185a90213a26c5da77"
   }
  }
 },
 "nbformat": 4,
 "nbformat_minor": 2
}
