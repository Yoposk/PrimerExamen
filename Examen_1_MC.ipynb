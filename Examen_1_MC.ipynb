{
 "cells": [
  {
   "cell_type": "markdown",
   "metadata": {},
   "source": [
    "# Examen 1"
   ]
  },
  {
   "cell_type": "markdown",
   "metadata": {},
   "source": [
    "## Importaciones necesarias"
   ]
  },
  {
   "cell_type": "code",
   "execution_count": 18,
   "metadata": {},
   "outputs": [],
   "source": [
    "import pandas as pd\n",
    "import matplotlib.pyplot as plt\n",
    "import scipy as sp\n",
    "import numpy as np\n",
    "import random\n",
    "from scipy import optimize as opt"
   ]
  },
  {
   "cell_type": "markdown",
   "metadata": {},
   "source": [
    "## Punto 1"
   ]
  },
  {
   "cell_type": "markdown",
   "metadata": {},
   "source": [
    "JSON de nombre \"countries.json\" descargado del siguiente link:\n",
    "https://gist.githubusercontent.com/keeguon/2310008/raw/bdc2ce1c1e3f28f9cab5b4393c7549f38361be4e/countries."
   ]
  },
  {
   "cell_type": "code",
   "execution_count": 19,
   "metadata": {},
   "outputs": [],
   "source": [
    "CountriesAPI = \"https://inspirehep.net/api/institutions?q=chile\"\n",
    "DatosPais = pd.read_json(CountriesAPI)"
   ]
  },
  {
   "cell_type": "markdown",
   "metadata": {},
   "source": [
    "Paso por toda la informacion optenida para poder saber cuales tienen paper mayores a 0"
   ]
  },
  {
   "cell_type": "code",
   "execution_count": 20,
   "metadata": {},
   "outputs": [],
   "source": [
    "opciones = []\n",
    "for i in range(0, len(DatosPais[\"hits\"][\"hits\"])):\n",
    "    validador = DatosPais[\"hits\"][\"hits\"][i][\"metadata\"][\"number_of_papers\"]\n",
    "    if validador > 0:\n",
    "        opciones.append(i)"
   ]
  },
  {
   "cell_type": "markdown",
   "metadata": {},
   "source": [
    "La primera opcion contiene los papers, por ende cumple con las condiciones para buscarle el \"legacy_ICN\""
   ]
  },
  {
   "cell_type": "code",
   "execution_count": 21,
   "metadata": {},
   "outputs": [
    {
     "data": {
      "text/plain": [
       "110"
      ]
     },
     "execution_count": 21,
     "metadata": {},
     "output_type": "execute_result"
    }
   ],
   "source": [
    "DatosPais[\"hits\"][\"hits\"][opciones[5]][\"metadata\"][\"number_of_papers\"]"
   ]
  },
  {
   "cell_type": "markdown",
   "metadata": {},
   "source": [
    "Obteniendo la informacion de \"legacy_ICN\""
   ]
  },
  {
   "cell_type": "code",
   "execution_count": 22,
   "metadata": {},
   "outputs": [
    {
     "data": {
      "text/plain": [
       "'U. Chile, Santiago'"
      ]
     },
     "execution_count": 22,
     "metadata": {},
     "output_type": "execute_result"
    }
   ],
   "source": [
    "legacy_ICN = DatosPais[\"hits\"][\"hits\"][opciones[0]][\"metadata\"][\"legacy_ICN\"]\n",
    "legacy_ICN"
   ]
  },
  {
   "cell_type": "code",
   "execution_count": 23,
   "metadata": {},
   "outputs": [
    {
     "data": {
      "text/plain": [
       "'U.+Chile,+Santiago'"
      ]
     },
     "execution_count": 23,
     "metadata": {},
     "output_type": "execute_result"
    }
   ],
   "source": [
    "ajuste_legacy_ICN = legacy_ICN[0:21].replace(\" \",\"+\")\n",
    "ajuste_legacy_ICN"
   ]
  },
  {
   "cell_type": "markdown",
   "metadata": {},
   "source": [
    "Descargando el siguiente archivo JSON, con los artículos de menos de 10 autores usando el \"legacy_ICN\""
   ]
  },
  {
   "cell_type": "code",
   "execution_count": 24,
   "metadata": {},
   "outputs": [],
   "source": [
    "AuthorsAPI = \"https://inspirehep.net/api/literature?page=1&q=aff+U.+Chile,+Santiago+and+ac+1-%3E+10\"\n",
    "DatosAuthor = pd.read_json(AuthorsAPI)"
   ]
  },
  {
   "cell_type": "code",
   "execution_count": 25,
   "metadata": {},
   "outputs": [
    {
     "data": {
      "text/plain": [
       "'https://inspirehep.net/api/authors/1757371'"
      ]
     },
     "execution_count": 25,
     "metadata": {},
     "output_type": "execute_result"
    }
   ],
   "source": [
    "DatosAuthor[\"hits\"][\"hits\"][2][\"metadata\"][\"authors\"][0][\"record\"][\"$ref\"]"
   ]
  },
  {
   "cell_type": "markdown",
   "metadata": {},
   "source": [
    "testeo"
   ]
  },
  {
   "cell_type": "code",
   "execution_count": 26,
   "metadata": {},
   "outputs": [
    {
     "data": {
      "text/plain": [
       "json                                                                  NaN\n",
       "email_addresses         [{'value': 'ivania.maturana@edu.uai.cl', 'curr...\n",
       "advisors                [{'ids': [{'value': 'INSPIRE-00300627', 'schem...\n",
       "positions               [{'rank': 'POSTDOC', 'record': {'$ref': 'https...\n",
       "ids                     [{'value': '0000-0002-1223-9567', 'schema': 'O...\n",
       "name                    {'value': 'Maturana Avila, Ivania', 'name_vari...\n",
       "stub                                                                False\n",
       "urls                              [{'value': 'https://www.ivaniela.com'}]\n",
       "status                                                             active\n",
       "$schema                 https://inspirehep.net/schemas/records/authors...\n",
       "deleted                                                             False\n",
       "control_number                                                    1757371\n",
       "legacy_version                                           20210415004236.0\n",
       "arxiv_categories                                                 [hep-ph]\n",
       "legacy_creation_date                                           2019-10-03\n",
       "Name: metadata, dtype: object"
      ]
     },
     "execution_count": 26,
     "metadata": {},
     "output_type": "execute_result"
    }
   ],
   "source": [
    "testeo = \"https://inspirehep.net/api/authors/1757371\"\n",
    "pd.read_json(testeo)[\"metadata\"]"
   ]
  },
  {
   "cell_type": "markdown",
   "metadata": {},
   "source": [
    "Busqueda y creación del dataframe"
   ]
  },
  {
   "cell_type": "code",
   "execution_count": 27,
   "metadata": {},
   "outputs": [],
   "source": [
    "NombreAuthor = []\n",
    "CorreoAuthor = []\n",
    "# No entendi este asi que no sé que buscar exactamente\n",
    "Position = []\n",
    "# --------------\n",
    "Rango = []\n",
    "Institution = []\n",
    "FechaInicio = []\n",
    "FechaFinalizacion = []"
   ]
  },
  {
   "cell_type": "code",
   "execution_count": 28,
   "metadata": {},
   "outputs": [],
   "source": [
    "for i in range(0,len(DatosAuthor[\"hits\"][\"hits\"])):\n",
    "    for j in range(0,len(DatosAuthor[\"hits\"][\"hits\"][i][\"metadata\"][\"authors\"])):\n",
    "        NombreAuthor.append(DatosAuthor[\"hits\"][\"hits\"][i][\"metadata\"][\"authors\"][j][\"full_name\"])\n",
    "        try:\n",
    "            LinkAuthor = DatosAuthor[\"hits\"][\"hits\"][i][\"metadata\"][\"authors\"][j][\"record\"][\"$ref\"]\n",
    "            try:\n",
    "                CorreoAuthor.append(pd.read_json(LinkAuthor)[\"metadata\"][\"email_addresses\"][0][\"value\"])\n",
    "            except KeyError:\n",
    "                CorreoAuthor.append(' - ')\n",
    "            try:\n",
    "                Rango.append(pd.read_json(LinkAuthor)[\"metadata\"][\"positions\"][0][\"rank\"])\n",
    "            except KeyError:\n",
    "                Rango.append(' - ')\n",
    "            try:\n",
    "                Institution.append(pd.read_json(LinkAuthor)[\"metadata\"][\"positions\"][0][\"institution\"])\n",
    "            except KeyError:\n",
    "                Institution.append(' - ') \n",
    "            try:\n",
    "                FechaInicio.append(pd.read_json(LinkAuthor)[\"metadata\"][\"positions\"][0][\"start_date\"])\n",
    "            except KeyError:\n",
    "                FechaInicio.append(' - ')\n",
    "            try:\n",
    "                FechaFinalizacion.append(pd.read_json(LinkAuthor)[\"metadata\"][\"positions\"][0][\"end_date\"])\n",
    "            except KeyError:\n",
    "                FechaFinalizacion.append(' - ') \n",
    "        except KeyError:\n",
    "            CorreoAuthor.append('Sin acceso a $ref')\n",
    "            Rango.append('Sin acceso a $ref')\n",
    "            Institution.append(\"Sin acceso a $ref\")\n",
    "            FechaInicio.append('Sin acceso a $ref')\n",
    "            FechaFinalizacion.append('Sin acceso a $ref')"
   ]
  },
  {
   "cell_type": "code",
   "execution_count": 29,
   "metadata": {},
   "outputs": [
    {
     "name": "stdout",
     "output_type": "stream",
     "text": [
      "Correo:  26\n",
      "Nombre:  26\n",
      "Rango:  26\n",
      "Insti:  24\n",
      "Inicio:  26\n",
      "Final:  26\n"
     ]
    }
   ],
   "source": [
    "print(\"Correo: \",len(CorreoAuthor))\n",
    "print(\"Nombre: \",len(NombreAuthor))\n",
    "print(\"Rango: \",len(Rango))\n",
    "print(\"Insti: \",len(Institution))\n",
    "print(\"Inicio: \",len(FechaInicio))\n",
    "print(\"Final: \",len(FechaFinalizacion))"
   ]
  },
  {
   "cell_type": "code",
   "execution_count": 30,
   "metadata": {},
   "outputs": [],
   "source": [
    "ResumenDeLosDatos = {\"Nombre\":NombreAuthor,\"Correo\":CorreoAuthor,\"Rango\":Rango,\"Institución\":Institution,\"Fecha de inicio\":FechaInicio,\"Fecha de finalizacion\":FechaFinalizacion}"
   ]
  },
  {
   "cell_type": "code",
   "execution_count": 31,
   "metadata": {},
   "outputs": [
    {
     "ename": "ValueError",
     "evalue": "All arrays must be of the same length",
     "output_type": "error",
     "traceback": [
      "\u001b[1;31m---------------------------------------------------------------------------\u001b[0m",
      "\u001b[1;31mValueError\u001b[0m                                Traceback (most recent call last)",
      "\u001b[1;32mc:\\Users\\oscar\\OneDrive\\Desktop\\Examen 1\\Examen_1_MC.ipynb Celda 24\u001b[0m in \u001b[0;36m<cell line: 1>\u001b[1;34m()\u001b[0m\n\u001b[1;32m----> <a href='vscode-notebook-cell:/c%3A/Users/oscar/OneDrive/Desktop/Examen%201/Examen_1_MC.ipynb#Y130sZmlsZQ%3D%3D?line=0'>1</a>\u001b[0m ElDataFrame \u001b[39m=\u001b[39m pd\u001b[39m.\u001b[39;49mDataFrame(ResumenDeLosDatos)\n",
      "File \u001b[1;32m~\\AppData\\Roaming\\Python\\Python310\\site-packages\\pandas\\core\\frame.py:636\u001b[0m, in \u001b[0;36mDataFrame.__init__\u001b[1;34m(self, data, index, columns, dtype, copy)\u001b[0m\n\u001b[0;32m    630\u001b[0m     mgr \u001b[39m=\u001b[39m \u001b[39mself\u001b[39m\u001b[39m.\u001b[39m_init_mgr(\n\u001b[0;32m    631\u001b[0m         data, axes\u001b[39m=\u001b[39m{\u001b[39m\"\u001b[39m\u001b[39mindex\u001b[39m\u001b[39m\"\u001b[39m: index, \u001b[39m\"\u001b[39m\u001b[39mcolumns\u001b[39m\u001b[39m\"\u001b[39m: columns}, dtype\u001b[39m=\u001b[39mdtype, copy\u001b[39m=\u001b[39mcopy\n\u001b[0;32m    632\u001b[0m     )\n\u001b[0;32m    634\u001b[0m \u001b[39melif\u001b[39;00m \u001b[39misinstance\u001b[39m(data, \u001b[39mdict\u001b[39m):\n\u001b[0;32m    635\u001b[0m     \u001b[39m# GH#38939 de facto copy defaults to False only in non-dict cases\u001b[39;00m\n\u001b[1;32m--> 636\u001b[0m     mgr \u001b[39m=\u001b[39m dict_to_mgr(data, index, columns, dtype\u001b[39m=\u001b[39;49mdtype, copy\u001b[39m=\u001b[39;49mcopy, typ\u001b[39m=\u001b[39;49mmanager)\n\u001b[0;32m    637\u001b[0m \u001b[39melif\u001b[39;00m \u001b[39misinstance\u001b[39m(data, ma\u001b[39m.\u001b[39mMaskedArray):\n\u001b[0;32m    638\u001b[0m     \u001b[39mimport\u001b[39;00m \u001b[39mnumpy\u001b[39;00m\u001b[39m.\u001b[39;00m\u001b[39mma\u001b[39;00m\u001b[39m.\u001b[39;00m\u001b[39mmrecords\u001b[39;00m \u001b[39mas\u001b[39;00m \u001b[39mmrecords\u001b[39;00m\n",
      "File \u001b[1;32m~\\AppData\\Roaming\\Python\\Python310\\site-packages\\pandas\\core\\internals\\construction.py:502\u001b[0m, in \u001b[0;36mdict_to_mgr\u001b[1;34m(data, index, columns, dtype, typ, copy)\u001b[0m\n\u001b[0;32m    494\u001b[0m     arrays \u001b[39m=\u001b[39m [\n\u001b[0;32m    495\u001b[0m         x\n\u001b[0;32m    496\u001b[0m         \u001b[39mif\u001b[39;00m \u001b[39mnot\u001b[39;00m \u001b[39mhasattr\u001b[39m(x, \u001b[39m\"\u001b[39m\u001b[39mdtype\u001b[39m\u001b[39m\"\u001b[39m) \u001b[39mor\u001b[39;00m \u001b[39mnot\u001b[39;00m \u001b[39misinstance\u001b[39m(x\u001b[39m.\u001b[39mdtype, ExtensionDtype)\n\u001b[0;32m    497\u001b[0m         \u001b[39melse\u001b[39;00m x\u001b[39m.\u001b[39mcopy()\n\u001b[0;32m    498\u001b[0m         \u001b[39mfor\u001b[39;00m x \u001b[39min\u001b[39;00m arrays\n\u001b[0;32m    499\u001b[0m     ]\n\u001b[0;32m    500\u001b[0m     \u001b[39m# TODO: can we get rid of the dt64tz special case above?\u001b[39;00m\n\u001b[1;32m--> 502\u001b[0m \u001b[39mreturn\u001b[39;00m arrays_to_mgr(arrays, columns, index, dtype\u001b[39m=\u001b[39;49mdtype, typ\u001b[39m=\u001b[39;49mtyp, consolidate\u001b[39m=\u001b[39;49mcopy)\n",
      "File \u001b[1;32m~\\AppData\\Roaming\\Python\\Python310\\site-packages\\pandas\\core\\internals\\construction.py:120\u001b[0m, in \u001b[0;36marrays_to_mgr\u001b[1;34m(arrays, columns, index, dtype, verify_integrity, typ, consolidate)\u001b[0m\n\u001b[0;32m    117\u001b[0m \u001b[39mif\u001b[39;00m verify_integrity:\n\u001b[0;32m    118\u001b[0m     \u001b[39m# figure out the index, if necessary\u001b[39;00m\n\u001b[0;32m    119\u001b[0m     \u001b[39mif\u001b[39;00m index \u001b[39mis\u001b[39;00m \u001b[39mNone\u001b[39;00m:\n\u001b[1;32m--> 120\u001b[0m         index \u001b[39m=\u001b[39m _extract_index(arrays)\n\u001b[0;32m    121\u001b[0m     \u001b[39melse\u001b[39;00m:\n\u001b[0;32m    122\u001b[0m         index \u001b[39m=\u001b[39m ensure_index(index)\n",
      "File \u001b[1;32m~\\AppData\\Roaming\\Python\\Python310\\site-packages\\pandas\\core\\internals\\construction.py:674\u001b[0m, in \u001b[0;36m_extract_index\u001b[1;34m(data)\u001b[0m\n\u001b[0;32m    672\u001b[0m lengths \u001b[39m=\u001b[39m \u001b[39mlist\u001b[39m(\u001b[39mset\u001b[39m(raw_lengths))\n\u001b[0;32m    673\u001b[0m \u001b[39mif\u001b[39;00m \u001b[39mlen\u001b[39m(lengths) \u001b[39m>\u001b[39m \u001b[39m1\u001b[39m:\n\u001b[1;32m--> 674\u001b[0m     \u001b[39mraise\u001b[39;00m \u001b[39mValueError\u001b[39;00m(\u001b[39m\"\u001b[39m\u001b[39mAll arrays must be of the same length\u001b[39m\u001b[39m\"\u001b[39m)\n\u001b[0;32m    676\u001b[0m \u001b[39mif\u001b[39;00m have_dicts:\n\u001b[0;32m    677\u001b[0m     \u001b[39mraise\u001b[39;00m \u001b[39mValueError\u001b[39;00m(\n\u001b[0;32m    678\u001b[0m         \u001b[39m\"\u001b[39m\u001b[39mMixing dicts with non-Series may lead to ambiguous ordering.\u001b[39m\u001b[39m\"\u001b[39m\n\u001b[0;32m    679\u001b[0m     )\n",
      "\u001b[1;31mValueError\u001b[0m: All arrays must be of the same length"
     ]
    }
   ],
   "source": [
    "ElDataFrame = pd.DataFrame(ResumenDeLosDatos)"
   ]
  },
  {
   "cell_type": "markdown",
   "metadata": {},
   "source": [
    "## Punto 2"
   ]
  },
  {
   "cell_type": "markdown",
   "metadata": {},
   "source": [
    "Genere un polinomio de numpy con 3 raices reales aleatorias entre los dos últimos números diferentes de su identificación (Ejemplo: 98554575 → 3 raices reales aleatorias  entre 5 y 7 )"
   ]
  },
  {
   "cell_type": "markdown",
   "metadata": {},
   "source": [
    "Cedula: 1214748203 -> 0 y 3"
   ]
  },
  {
   "cell_type": "code",
   "execution_count": null,
   "metadata": {},
   "outputs": [],
   "source": [
    "coef1 = random.uniform(0,3)\n",
    "coef2 = random.uniform(0,3)\n",
    "coef3 = random.uniform(0,3)\n",
    "\n",
    "print(\"Raiz 1: \",coef1)\n",
    "print(\"Raiz 2: \",coef2)\n",
    "print(\"Raiz 3: \",coef3)"
   ]
  },
  {
   "cell_type": "markdown",
   "metadata": {},
   "source": [
    "Polinomio principal"
   ]
  },
  {
   "cell_type": "code",
   "execution_count": null,
   "metadata": {},
   "outputs": [],
   "source": [
    "Poli_3raiz = np.poly1d([1, (-1)*(coef1+coef2+coef3), coef1*coef2 + coef1*coef3 + coef2*coef3,(-1)*coef1*coef2*coef3])"
   ]
  },
  {
   "cell_type": "code",
   "execution_count": null,
   "metadata": {},
   "outputs": [],
   "source": [
    "Valx = np.linspace(0,4,100)"
   ]
  },
  {
   "cell_type": "code",
   "execution_count": null,
   "metadata": {},
   "outputs": [],
   "source": [
    "Valy = Poli_3raiz(Valx)"
   ]
  },
  {
   "cell_type": "code",
   "execution_count": null,
   "metadata": {},
   "outputs": [],
   "source": [
    "plt.figure(figsize=(20,12))\n",
    "plt.plot(Valx,Valy)\n",
    "plt.axhline(0,color=\"red\")\n",
    "plt.ylim(-0.04,0.04)\n",
    "plt.xlim(1.5,2.5)\n",
    "plt.show()"
   ]
  },
  {
   "cell_type": "markdown",
   "metadata": {},
   "source": [
    "dada la grafica anterior, podemos decir que tenemos raices entre [1.5,1.6], [2,2.1] y [2.1,2.3]"
   ]
  },
  {
   "cell_type": "code",
   "execution_count": null,
   "metadata": {},
   "outputs": [],
   "source": [
    "Raiz1_a = 1.5\n",
    "Raiz1_b = 1.6\n",
    "Raiz1 = opt.bisect(Poli_3raiz,Raiz1_a,Raiz1_b)\n",
    "\n",
    "Raiz2_a = 2\n",
    "Raiz2_b = 2.1\n",
    "Raiz2 = opt.bisect(Poli_3raiz,Raiz2_a,Raiz2_b)\n",
    "\n",
    "Raiz3_a = 2.1\n",
    "Raiz3_b = 2.3\n",
    "Raiz3 = opt.bisect(Poli_3raiz,Raiz3_a,Raiz3_b)"
   ]
  },
  {
   "cell_type": "markdown",
   "metadata": {},
   "source": [
    "derivada del polinomio"
   ]
  },
  {
   "cell_type": "code",
   "execution_count": null,
   "metadata": {},
   "outputs": [],
   "source": [
    "Deri_Poli = Poli_3raiz.deriv()\n",
    "Valy_deri = Deri_Poli(Valx)"
   ]
  },
  {
   "cell_type": "code",
   "execution_count": null,
   "metadata": {},
   "outputs": [],
   "source": [
    "plt.figure(figsize=(20,12))\n",
    "plt.plot(Valx,Valy_deri)\n",
    "plt.axhline(0,color=\"red\")\n",
    "plt.ylim(-1,1)\n",
    "plt.xlim(1.5,2.5)\n",
    "plt.show()"
   ]
  },
  {
   "cell_type": "markdown",
   "metadata": {},
   "source": [
    "dada la grafica anterior, podemos decir que tenemos raices entre [1.6,1.8], [2,2.2]"
   ]
  },
  {
   "cell_type": "code",
   "execution_count": null,
   "metadata": {},
   "outputs": [],
   "source": [
    "RaizDeri1_a = 1.6\n",
    "RaizDeri1_b = 1.8\n",
    "RaizDeri1 = opt.bisect(Deri_Poli,RaizDeri1_a,RaizDeri1_b)\n",
    "\n",
    "RaizDeri2_a = 2\n",
    "RaizDeri2_b = 2.2\n",
    "RaizDeri2 = opt.bisect(Deri_Poli,RaizDeri2_a,RaizDeri2_b)"
   ]
  },
  {
   "cell_type": "code",
   "execution_count": null,
   "metadata": {},
   "outputs": [],
   "source": [
    "Raices = np.array([Raiz1,Raiz2,Raiz3])\n",
    "ValRaiz = Poli_3raiz(Raices)"
   ]
  },
  {
   "cell_type": "markdown",
   "metadata": {},
   "source": [
    "derivada de la derivada (para verificar si es maximo o minimo)"
   ]
  },
  {
   "cell_type": "code",
   "execution_count": null,
   "metadata": {},
   "outputs": [],
   "source": [
    "Deri_Deri_Poli = Deri_Poli.deriv()"
   ]
  },
  {
   "cell_type": "code",
   "execution_count": null,
   "metadata": {},
   "outputs": [],
   "source": [
    "PuntosCriticos = np.array([RaizDeri1,RaizDeri2])\n",
    "Valy_deri_deri = Deri_Deri_Poli(PuntosCriticos)\n",
    "Valy_deri_deri"
   ]
  },
  {
   "cell_type": "markdown",
   "metadata": {},
   "source": [
    "dado lo anterior, tenemos que el punto de la RaizDeri1 es un maximo y el de RaizDeri2 es un minimo (local si se toma la recta, ya que la función crece y decrece infinitamente en los extremos. De lo contrario globales para intervalos alrededor de las raices)"
   ]
  },
  {
   "cell_type": "markdown",
   "metadata": {},
   "source": [
    "En el intervalo tomado [0,4], los maximos globales son los extremos, pero tomando unicamente los valores dentro de las raices que son las que presentan cambio de concavidad son:"
   ]
  },
  {
   "cell_type": "markdown",
   "metadata": {},
   "source": [
    "graficando todos los resultados"
   ]
  },
  {
   "cell_type": "markdown",
   "metadata": {},
   "source": [
    "Grafica del polinomio y sus dereivadas"
   ]
  },
  {
   "cell_type": "code",
   "execution_count": null,
   "metadata": {},
   "outputs": [],
   "source": [
    "plt.figure(figsize=(20,12))\n",
    "plt.plot(Valx,Valy,\"blue\",label=\"Polinomio\")\n",
    "plt.plot(Valx,Valy_deri,\"green\",label=\"1ra Derivada\")\n",
    "plt.plot(Valx,Deri_Deri_Poli(Valx),\"red\",label=\"2da Derivada\")\n",
    "plt.legend()\n",
    "plt.show()"
   ]
  },
  {
   "cell_type": "markdown",
   "metadata": {},
   "source": [
    "grafica del polinomio y sus raices"
   ]
  },
  {
   "cell_type": "code",
   "execution_count": null,
   "metadata": {},
   "outputs": [],
   "source": [
    "plt.figure(figsize=(20,12))\n",
    "plt.plot(Valx,Valy)\n",
    "plt.plot(Raices,ValRaiz,\"og\")\n",
    "plt.axhline(0,color=\"red\")\n",
    "plt.ylim(-0.04,0.04)\n",
    "plt.xlim(1.5,2.5)\n",
    "plt.show()\n"
   ]
  },
  {
   "cell_type": "markdown",
   "metadata": {},
   "source": [
    "grafica de la derivada y sus raices"
   ]
  },
  {
   "cell_type": "code",
   "execution_count": null,
   "metadata": {},
   "outputs": [],
   "source": [
    "plt.figure(figsize=(20,12))\n",
    "plt.plot(Valx,Valy_deri)\n",
    "plt.plot(PuntosCriticos,Deri_Poli(PuntosCriticos),\"og\")\n",
    "plt.axhline(0,color=\"red\")\n",
    "plt.ylim(-1,1)\n",
    "plt.xlim(1.5,2.5)\n",
    "plt.show()"
   ]
  },
  {
   "cell_type": "code",
   "execution_count": null,
   "metadata": {},
   "outputs": [],
   "source": []
  }
 ],
 "metadata": {
  "kernelspec": {
   "display_name": "Python 3.10.4 64-bit",
   "language": "python",
   "name": "python3"
  },
  "language_info": {
   "codemirror_mode": {
    "name": "ipython",
    "version": 3
   },
   "file_extension": ".py",
   "mimetype": "text/x-python",
   "name": "python",
   "nbconvert_exporter": "python",
   "pygments_lexer": "ipython3",
   "version": "3.10.4"
  },
  "orig_nbformat": 4,
  "vscode": {
   "interpreter": {
    "hash": "26de051ba29f2982a8de78e945f0abaf191376122a1563185a90213a26c5da77"
   }
  }
 },
 "nbformat": 4,
 "nbformat_minor": 2
}
